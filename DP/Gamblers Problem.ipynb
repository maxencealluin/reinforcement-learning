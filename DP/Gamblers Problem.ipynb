{
 "cells": [
  {
   "cell_type": "markdown",
   "metadata": {
    "collapsed": true
   },
   "source": [
    "### This is Example 4.3. Gambler’s Problem from Sutton's book.\n",
    "\n",
    "A gambler has the opportunity to make bets on the outcomes of a sequence of coin flips. \n",
    "If the coin comes up heads, he wins as many dollars as he has staked on that flip; \n",
    "if it is tails, he loses his stake. The game ends when the gambler wins by reaching his goal of $100, \n",
    "or loses by running out of money. \n",
    "\n",
    "On each flip, the gambler must decide what portion of his capital to stake, in integer numbers of dollars. \n",
    "This problem can be formulated as an undiscounted, episodic, finite MDP. \n",
    "\n",
    "The state is the gambler’s capital, s ∈ {1, 2, . . . , 99}.\n",
    "The actions are stakes, a ∈ {0, 1, . . . , min(s, 100 − s)}. \n",
    "The reward is zero on all transitions except those on which the gambler reaches his goal, when it is +1.\n",
    "\n",
    "The state-value function then gives the probability of winning from each state. A policy is a mapping from levels of capital to stakes. The optimal policy maximizes the probability of reaching the goal. Let p_h denote the probability of the coin coming up heads. If p_h is known, then the entire problem is known and it can be solved, for instance, by value iteration.\n"
   ]
  },
  {
   "cell_type": "code",
   "execution_count": 164,
   "metadata": {},
   "outputs": [],
   "source": [
    "import numpy as np\n",
    "import sys\n",
    "import matplotlib.pyplot as plt\n",
    "if \"../\" not in sys.path:\n",
    "  sys.path.append(\"../\") "
   ]
  },
  {
   "cell_type": "markdown",
   "metadata": {
    "collapsed": true
   },
   "source": [
    "\n",
    "### Exercise 4.9 (programming)\n",
    "\n",
    "Implement value iteration for the gambler’s problem and solve it for p_h = 0.25 and p_h = 0.55.\n",
    "\n"
   ]
  },
  {
   "cell_type": "code",
   "execution_count": 185,
   "metadata": {},
   "outputs": [],
   "source": [
    "def value_iteration_for_gamblers(p_h, theta=0.001, discount_factor=0.3):\n",
    "    \"\"\"\n",
    "    Args:\n",
    "        p_h: Probability of the coin coming up heads\n",
    "    \"\"\"\n",
    "    def policy_evaluation(V, p):\n",
    "        reward = np .zeros((101))\n",
    "        reward[100] = 1\n",
    "        z = 0\n",
    "        while True:\n",
    "            delta = 0\n",
    "            r_actions = []\n",
    "            for i, state in enumerate(V):\n",
    "                if (i == 0 or i == 100):\n",
    "                    continue\n",
    "                r_actions = one_step_lookahead(i, V, reward)\n",
    "#                 print(i, r_actions)\n",
    "                best_action = np.max(r_actions)\n",
    "                delta = max(delta, best_action - V[i])\n",
    "                V[i] = best_action\n",
    "            z += 1\n",
    "            if (delta < theta):\n",
    "                break\n",
    "        return V\n",
    "\n",
    "    def policy_greedy(V, policy, p_h):\n",
    "        P1 = []\n",
    "        reward = np .zeros((101))\n",
    "        reward[100] = 1\n",
    "        best = 0\n",
    "        val = 0\n",
    "        for i in range (1, 100):\n",
    "            p = [0] * 100\n",
    "#             action = np.argmax(one_step_lookahead(i, V, reward))\n",
    "#             p[action] = 1\n",
    "            tmp = []\n",
    "            for j in range (1, min(100 - i, i) + 1):\n",
    "                tmp  = p_h *(reward[min(100, i + j)] +  discount_factor * V[min(100, i + j)]) + (1 - p_h) * ( discount_factor * V[i - j] +  reward[i -j])\n",
    "#                     print(\"i\", i, \"j\", j,  \"i + j\",V[max(100,i + j)], \"i - j\", V[max(0,i - j)], \"val\",tmp)\n",
    "                if (tmp > val):\n",
    "                    val = tmp\n",
    "                    best = j\n",
    "            p[best] = 1\n",
    "            P1.append(p)\n",
    "        return P1\n",
    "        \n",
    "    def one_step_lookahead(s, V, reward):\n",
    "        \"\"\"\n",
    "        Args:\n",
    "            s: The gambler’s capital. Integer.\n",
    "            V: The vector that contains values at each state. \n",
    "            rewards: The reward vector.\n",
    "        Returns:\n",
    "            A vector containing the expected value of each action. \n",
    "            Its length equals to the number of actions.\n",
    "        \"\"\"\n",
    "        A = []\n",
    "        i = s\n",
    "        for j in range(1, min(s, 100 -s) + 1):\n",
    "            win = min(i + j, 100)\n",
    "            lose = i - j\n",
    "            tmp = (p_h * (reward[win] + discount_factor * V[win]) + (1 - p_h) * (reward[lose] + discount_factor * V[lose]))\n",
    "            A.append(tmp)\n",
    "#         print(\"A\", A)\n",
    "        return A\n",
    "    \n",
    "    V = np.zeros((101))\n",
    "    policy = np.zeros((99, 99))\n",
    "#     for i, state in enumerate(V):\n",
    "#         for j, action in enumerate(policy[i][:i + 1]):\n",
    "#             if (i < 100):\n",
    "#                 policy[i][j] = 1 / len(policy[:i + 1])\n",
    "#     policy[0][0] = 1\n",
    "#     print(policy)\n",
    "    V = policy_evaluation(V, p_h)\n",
    "    policy = policy_greedy(V, policy, p_h)\n",
    "#     V = policy_evaluation(V, policy, p_h)\n",
    "    # Implement!\n",
    "    \n",
    "    return policy, V"
   ]
  },
  {
   "cell_type": "code",
   "execution_count": 186,
   "metadata": {
    "scrolled": false
   },
   "outputs": [
    {
     "name": "stdout",
     "output_type": "stream",
     "text": [
      "Optimized Policy:\n",
      "[0, 0, 1, 0, 0, 0, 0, 0, 0, 0, 0, 0, 0, 0, 0, 0, 0, 0, 0, 0, 0, 0, 0, 0, 0, 0, 0, 0, 0, 0, 0, 0, 0, 0, 0, 0, 0, 0, 0, 0, 0, 0, 0, 0, 0, 0, 0, 0, 0, 0, 0, 0, 0, 0, 0, 0, 0, 0, 0, 0, 0, 0, 0, 0, 0, 0, 0, 0, 0, 0, 0, 0, 0, 0, 0, 0, 0, 0, 0, 0, 0, 0, 0, 0, 0, 0, 0, 0, 0, 0, 0, 0, 0, 0, 0, 0, 0, 0, 0, 0]\n",
      "\n",
      "Optimized Value Function:\n",
      "[[0.00000000e+00 0.00000000e+00 0.00000000e+00 0.00000000e+00\n",
      "  4.07660344e-04 4.62694490e-04 4.71127097e-04 2.47066875e-03\n",
      "  2.52570290e-03 2.53413550e-03]\n",
      " [2.80420903e-03 2.85924318e-03 2.86667279e-03 1.49737500e-02\n",
      "  1.49737500e-02 1.50362138e-02 1.53072903e-02 1.53158583e-02\n",
      "  1.53623244e-02 1.69952063e-02]\n",
      " [1.70036389e-02 1.70502404e-02 1.73287465e-02 1.73361761e-02\n",
      "  1.73837807e-02 9.07500000e-02 9.07500000e-02 9.08050341e-02\n",
      "  9.08136022e-02 9.10909699e-02]\n",
      " [9.11285682e-02 9.11460040e-02 9.27714563e-02 9.28164842e-02\n",
      "  9.28339200e-02 9.31049965e-02 9.31135645e-02 9.31574541e-02\n",
      "  1.03001250e-01 1.03009836e-01]\n",
      " [1.03063714e-01 1.03334790e-01 1.03343358e-01 1.03387248e-01\n",
      "  1.05022706e-01 1.05031139e-01 1.05068891e-01 1.05295603e-01\n",
      "  1.05303032e-01 1.05341634e-01]\n",
      " [5.50000000e-01 5.50000000e-01 5.50055034e-01 5.50063602e-01\n",
      "  5.50340970e-01 5.50378568e-01 5.50387001e-01 5.52021456e-01\n",
      "  5.52066484e-01 5.52073914e-01]\n",
      " [5.52295491e-01 5.52339381e-01 5.52346810e-01 5.62251250e-01\n",
      "  5.62259836e-01 5.62302357e-01 5.62524147e-01 5.62532579e-01\n",
      "  5.62570331e-01 5.63905169e-01]\n",
      " [5.63913601e-01 5.63951353e-01 5.64178065e-01 5.64184300e-01\n",
      "  5.64215909e-01 6.24250000e-01 6.24257430e-01 6.24296031e-01\n",
      "  6.24302245e-01 6.24528975e-01]\n",
      " [6.24559891e-01 6.24566819e-01 6.25905078e-01 6.25940760e-01\n",
      "  6.25946995e-01 6.26128336e-01 6.26164039e-01 6.26169148e-01\n",
      "  6.34274753e-01 6.34280803e-01]\n",
      " [6.34315585e-01 6.34497186e-01 6.34502844e-01 6.34532145e-01\n",
      "  6.35627092e-01 6.35632604e-01 6.35657884e-01 6.35809657e-01\n",
      "  6.35813814e-01 6.35834865e-01]]\n",
      "0.0\n",
      "\n"
     ]
    }
   ],
   "source": [
    "policy, v = value_iteration_for_gamblers(p_h = 0.55)\n",
    "\n",
    "print(\"Optimized Policy:\")\n",
    "print(policy[1])\n",
    "print(\"\")\n",
    "\n",
    "print(\"Optimized Value Function:\")\n",
    "print(v[:100].reshape((10,10)))\n",
    "print(v[100])\n",
    "\n",
    "print(\"\")"
   ]
  },
  {
   "cell_type": "code",
   "execution_count": 187,
   "metadata": {},
   "outputs": [
    {
     "data": {
      "image/png": "[encoded data removed]",
      "text/plain": [
       "<Figure size 432x288 with 1 Axes>"
      ]
     },
     "metadata": {
      "needs_background": "light"
     },
     "output_type": "display_data"
    }
   ],
   "source": [
    "# Plotting Final Policy (action stake) vs State (Capital)\n",
    "import matplotlib.pyplot as plt\n",
    "plt.plot(v[:100])\n",
    "plt.show()\n",
    "# Implement!"
   ]
  },
  {
   "cell_type": "code",
   "execution_count": 188,
   "metadata": {},
   "outputs": [
    {
     "data": {
      "text/plain": [
       "<BarContainer object of 99 artists>"
      ]
     },
     "execution_count": 188,
     "metadata": {},
     "output_type": "execute_result"
    },
    {
     "data": {
      "image/png": "[encoded data removed]",
      "text/plain": [
       "<Figure size 432x288 with 1 Axes>"
      ]
     },
     "metadata": {
      "needs_background": "light"
     },
     "output_type": "display_data"
    }
   ],
   "source": [
    "# Plotting Capital vs Final Policy\n",
    "X = [x for x in range(99)]\n",
    "Y = [np.argmax(policy[x]) for x in X]\n",
    "\n",
    "plt.bar(X, Y)\n",
    "# Implement!\n"
   ]
  },
  {
   "cell_type": "code",
   "execution_count": null,
   "metadata": {},
   "outputs": [],
   "source": []
  },
  {
   "cell_type": "code",
   "execution_count": null,
   "metadata": {},
   "outputs": [],
   "source": []
  },
  {
   "cell_type": "code",
   "execution_count": null,
   "metadata": {},
   "outputs": [],
   "source": []
  }
 ],
 "metadata": {
  "kernelspec": {
   "display_name": "Python 3",
   "language": "python",
   "name": "python3"
  },
  "language_info": {
   "codemirror_mode": {
    "name": "ipython",
    "version": 3
   },
   "file_extension": ".py",
   "mimetype": "text/x-python",
   "name": "python",
   "nbconvert_exporter": "python",
   "pygments_lexer": "ipython3",
   "version": "3.6.8"
  }
 },
 "nbformat": 4,
 "nbformat_minor": 1
}
