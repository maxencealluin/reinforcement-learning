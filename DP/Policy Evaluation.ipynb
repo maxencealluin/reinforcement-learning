{
 "cells": [
  {
   "cell_type": "code",
   "execution_count": 2,
   "metadata": {},
   "outputs": [],
   "source": [
    "import numpy as np\n",
    "import sys\n",
    "if \"../\" not in sys.path:\n",
    "  sys.path.append(\"../\") \n",
    "from lib.envs.gridworld import GridworldEnv"
   ]
  },
  {
   "cell_type": "code",
   "execution_count": 3,
   "metadata": {},
   "outputs": [],
   "source": [
    "env = GridworldEnv()"
   ]
  },
  {
   "cell_type": "code",
   "execution_count": 5,
   "metadata": {},
   "outputs": [
    {
     "name": "stdout",
     "output_type": "stream",
     "text": [
      "[(1.0, 0, 0.0, True)]\n",
      "[(1.0, 0, 0.0, True)]\n",
      "[(1.0, 0, 0.0, True)]\n",
      "[(1.0, 0, 0.0, True)]\n",
      "0.0\n",
      "[(1.0, 1, -1.0, False)]\n",
      "[(1.0, 2, -1.0, False)]\n",
      "[(1.0, 5, -1.0, False)]\n",
      "[(1.0, 0, -1.0, True)]\n",
      "-1.0\n",
      "[(1.0, 2, -1.0, False)]\n",
      "[(1.0, 3, -1.0, False)]\n",
      "[(1.0, 6, -1.0, False)]\n",
      "[(1.0, 1, -1.0, False)]\n",
      "-1.25\n",
      "[(1.0, 3, -1.0, False)]\n",
      "[(1.0, 3, -1.0, False)]\n",
      "[(1.0, 7, -1.0, False)]\n",
      "[(1.0, 2, -1.0, False)]\n",
      "-1.3125\n",
      "[(1.0, 0, -1.0, True)]\n",
      "[(1.0, 5, -1.0, False)]\n",
      "[(1.0, 8, -1.0, False)]\n",
      "[(1.0, 4, -1.0, False)]\n",
      "-1.0\n",
      "[(1.0, 1, -1.0, False)]\n",
      "[(1.0, 6, -1.0, False)]\n",
      "[(1.0, 9, -1.0, False)]\n",
      "[(1.0, 4, -1.0, False)]\n",
      "-1.5\n",
      "[(1.0, 2, -1.0, False)]\n",
      "[(1.0, 7, -1.0, False)]\n",
      "[(1.0, 10, -1.0, False)]\n",
      "[(1.0, 5, -1.0, False)]\n",
      "-1.6875\n",
      "[(1.0, 3, -1.0, False)]\n",
      "[(1.0, 7, -1.0, False)]\n",
      "[(1.0, 11, -1.0, False)]\n",
      "[(1.0, 6, -1.0, False)]\n",
      "-1.75\n",
      "[(1.0, 4, -1.0, False)]\n",
      "[(1.0, 9, -1.0, False)]\n",
      "[(1.0, 12, -1.0, False)]\n",
      "[(1.0, 8, -1.0, False)]\n",
      "-1.25\n",
      "[(1.0, 5, -1.0, False)]\n",
      "[(1.0, 10, -1.0, False)]\n",
      "[(1.0, 13, -1.0, False)]\n",
      "[(1.0, 8, -1.0, False)]\n",
      "-1.6875\n",
      "[(1.0, 6, -1.0, False)]\n",
      "[(1.0, 11, -1.0, False)]\n",
      "[(1.0, 14, -1.0, False)]\n",
      "[(1.0, 9, -1.0, False)]\n",
      "-1.84375\n",
      "[(1.0, 7, -1.0, False)]\n",
      "[(1.0, 11, -1.0, False)]\n",
      "[(1.0, 15, -1.0, True)]\n",
      "[(1.0, 10, -1.0, False)]\n",
      "-1.8984375\n",
      "[(1.0, 8, -1.0, False)]\n",
      "[(1.0, 13, -1.0, False)]\n",
      "[(1.0, 12, -1.0, False)]\n",
      "[(1.0, 12, -1.0, False)]\n",
      "-1.3125\n",
      "[(1.0, 9, -1.0, False)]\n",
      "[(1.0, 14, -1.0, False)]\n",
      "[(1.0, 13, -1.0, False)]\n",
      "[(1.0, 12, -1.0, False)]\n",
      "-1.75\n",
      "[(1.0, 10, -1.0, False)]\n",
      "[(1.0, 15, -1.0, True)]\n",
      "[(1.0, 14, -1.0, False)]\n",
      "[(1.0, 13, -1.0, False)]\n",
      "-1.8984375\n",
      "[(1.0, 15, 0.0, True)]\n",
      "[(1.0, 15, 0.0, True)]\n",
      "[(1.0, 15, 0.0, True)]\n",
      "[(1.0, 15, 0.0, True)]\n",
      "0.0\n"
     ]
    }
   ],
   "source": [
    "random_policy = np.ones([env.nS, env.nA]) / env.nA\n",
    "\n",
    "def evaluate_state(env, id_state, V, prob):\n",
    "    val = 0\n",
    "    state = env.P[id_state]\n",
    "    for a_s, p in zip(state.values(), prob):\n",
    "        print(a_s)\n",
    "        val += p * (a_s[0][2] + V[a_s[0][1]])\n",
    "    print(val)\n",
    "    return val\n",
    "\n",
    "V = np.zeros(env.nS)\n",
    "for i, v in enumerate(V):\n",
    "    V[i] = evaluate_state(env, i, V, random_policy[i])\n",
    "#     print(env.P[i])\n",
    "#     print(env.P[i][0][0])\n",
    "#     V[i] = env.P[i]"
   ]
  },
  {
   "cell_type": "code",
   "execution_count": 60,
   "metadata": {},
   "outputs": [],
   "source": [
    "def evaluate_state(env, id_state, V, prob):\n",
    "    val = 0\n",
    "    state = env.P[id_state]\n",
    "    for a_s, p in zip(state.values(), prob):\n",
    "#         print(a_s)\n",
    "        val += p * (a_s[0][2] + V[a_s[0][1]])\n",
    "#     print(val)\n",
    "    return val\n",
    "\n",
    "def policy_eval(policy, env, discount_factor=1.0, theta=0.00001):\n",
    "    \"\"\"\n",
    "    Evaluate a policy given an environment and a full description of the environment's dynamics.\n",
    "    \n",
    "    Args:\n",
    "        policy: [S, A] shaped matrix representing the policy.\n",
    "        env: OpenAI env. env.P represents the transition probabilities of the environment.\n",
    "            env.P[s][a] is a list of transition tuples (prob, next_state, reward, done).\n",
    "            env.nS is a number of states in the environment. \n",
    "            env.nA is a number of actions in the environment.\n",
    "        theta: We stop evaluation once our value function change is less than theta for all states.\n",
    "        discount_factor: Gamma discount factor.\n",
    "    \n",
    "    Returns:\n",
    "        Vector of length env.nS representing the value function.\n",
    "    \"\"\"\n",
    "    # Start with a random (all 0) value function\n",
    "    V = np.zeros(env.nS)\n",
    "    V1 = np.zeros(env.nS)\n",
    "    \n",
    "    while True:\n",
    "        exit = 1\n",
    "        for i, v in enumerate(V):\n",
    "            V1[i] = evaluate_state(env, i, V, random_policy[i])\n",
    "        for v, vp in zip(V, V1):\n",
    "            if abs(v - vp) > theta:\n",
    "                exit = 0\n",
    "        for x in range(env.nS):\n",
    "            V[x] = V1[x]\n",
    "        if exit:\n",
    "            break\n",
    "    return np.array(V)"
   ]
  },
  {
   "cell_type": "code",
   "execution_count": 61,
   "metadata": {},
   "outputs": [
    {
     "name": "stdout",
     "output_type": "stream",
     "text": [
      "[  0.         -13.99989315 -19.99984167 -21.99982282]\n",
      "[-13.99989315 -17.99986052 -19.99984273 -19.99984167]\n",
      "[-19.99984167 -19.99984273 -17.99986052 -13.99989315]\n",
      "[-21.99982282 -19.99984167 -13.99989315   0.        ]\n"
     ]
    }
   ],
   "source": [
    "random_policy = np.ones([env.nS, env.nA]) / env.nA\n",
    "v = policy_eval(random_policy, env)\n",
    "print(v[:4])\n",
    "print(v[4:8])\n",
    "print(v[8:12])\n",
    "print(v[12:])"
   ]
  },
  {
   "cell_type": "code",
   "execution_count": 62,
   "metadata": {},
   "outputs": [],
   "source": [
    "# Test: Make sure the evaluated policy is what we expected\n",
    "expected_v = np.array([0, -14, -20, -22, -14, -18, -20, -20, -20, -20, -18, -14, -22, -20, -14, 0])\n",
    "np.testing.assert_array_almost_equal(v, expected_v, decimal=2)"
   ]
  },
  {
   "cell_type": "code",
   "execution_count": null,
   "metadata": {},
   "outputs": [],
   "source": []
  },
  {
   "cell_type": "code",
   "execution_count": null,
   "metadata": {},
   "outputs": [],
   "source": []
  }
 ],
 "metadata": {
  "kernelspec": {
   "display_name": "Python 3",
   "language": "python",
   "name": "python3"
  },
  "language_info": {
   "codemirror_mode": {
    "name": "ipython",
    "version": 3
   },
   "file_extension": ".py",
   "mimetype": "text/x-python",
   "name": "python",
   "nbconvert_exporter": "python",
   "pygments_lexer": "ipython3",
   "version": "3.6.8"
  }
 },
 "nbformat": 4,
 "nbformat_minor": 1
}
